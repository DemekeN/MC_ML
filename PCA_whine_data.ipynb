{
 "cells": [
  {
   "cell_type": "markdown",
   "metadata": {},
   "source": [
    "# Principal Component analysis(PCA) on wine datasets\n",
    " "
   ]
  },
  {
   "cell_type": "markdown",
   "metadata": {},
   "source": [
    "## Dimensionality reduction\n",
    "In statistics, machine learning, and information theory, dimensionality reduction or dimension reduction is the process of reducing the number of random variables under consideration by obtaining a set of principal variables. It can be divided into feature selection and feature extraction"
   ]
  },
  {
   "cell_type": "markdown",
   "metadata": {},
   "source": [
    "Feature Selection techniques are     - Backward Elimination .  Forward Selection . Bidirectional Elimination and Score Comparison ....\n",
    "\n",
    "\n",
    "\n",
    "The following are Feature Extraction techniques:  - Principal Component Analysis (PCA) . Linear Discriminant Analysis (LDA)\n",
    ".Kernel PCA   and  Quadratic Discriminant Analysis (QDA)"
   ]
  },
  {
   "cell_type": "markdown",
   "metadata": {},
   "source": [
    "# PCA (Principal Component Analysis \n",
    "\n",
    "- From the m indepenndent variables of your dataset, PCA extracts p<= m new independent variables that explain the most the variance of the datset, regardless of the dependent variable. Because smaller data sets are easier to explore and visualize and make analyzing data much easier and faster for machine learning algorithms without extraneous variables to process.Simply PCA reduce the number of variables of a data set, while preserving as much information as possible. In the following section we apply PCA to wine datasets with 13 independent variables "
   ]
  },
  {
   "cell_type": "code",
   "execution_count": 1,
   "metadata": {},
   "outputs": [],
   "source": [
    "# Importing the libraries\n",
    "import numpy as np\n",
    "import matplotlib.pyplot as plt\n",
    "import pandas as pd"
   ]
  },
  {
   "cell_type": "code",
   "execution_count": 2,
   "metadata": {},
   "outputs": [
    {
     "data": {
      "text/html": [
       "<div>\n",
       "<style scoped>\n",
       "    .dataframe tbody tr th:only-of-type {\n",
       "        vertical-align: middle;\n",
       "    }\n",
       "\n",
       "    .dataframe tbody tr th {\n",
       "        vertical-align: top;\n",
       "    }\n",
       "\n",
       "    .dataframe thead th {\n",
       "        text-align: right;\n",
       "    }\n",
       "</style>\n",
       "<table border=\"1\" class=\"dataframe\">\n",
       "  <thead>\n",
       "    <tr style=\"text-align: right;\">\n",
       "      <th></th>\n",
       "      <th>Alcohol</th>\n",
       "      <th>Malic_Acid</th>\n",
       "      <th>Ash</th>\n",
       "      <th>Ash_Alcanity</th>\n",
       "      <th>Magnesium</th>\n",
       "      <th>Total_Phenols</th>\n",
       "      <th>Flavanoids</th>\n",
       "      <th>Nonflavanoid_Phenols</th>\n",
       "      <th>Proanthocyanins</th>\n",
       "      <th>Color_Intensity</th>\n",
       "      <th>Hue</th>\n",
       "      <th>OD280</th>\n",
       "      <th>Proline</th>\n",
       "      <th>Customer_Segment</th>\n",
       "    </tr>\n",
       "  </thead>\n",
       "  <tbody>\n",
       "    <tr>\n",
       "      <th>0</th>\n",
       "      <td>14.23</td>\n",
       "      <td>1.71</td>\n",
       "      <td>2.43</td>\n",
       "      <td>15.6</td>\n",
       "      <td>127</td>\n",
       "      <td>2.80</td>\n",
       "      <td>3.06</td>\n",
       "      <td>0.28</td>\n",
       "      <td>2.29</td>\n",
       "      <td>5.64</td>\n",
       "      <td>1.04</td>\n",
       "      <td>3.92</td>\n",
       "      <td>1065</td>\n",
       "      <td>1</td>\n",
       "    </tr>\n",
       "    <tr>\n",
       "      <th>1</th>\n",
       "      <td>13.20</td>\n",
       "      <td>1.78</td>\n",
       "      <td>2.14</td>\n",
       "      <td>11.2</td>\n",
       "      <td>100</td>\n",
       "      <td>2.65</td>\n",
       "      <td>2.76</td>\n",
       "      <td>0.26</td>\n",
       "      <td>1.28</td>\n",
       "      <td>4.38</td>\n",
       "      <td>1.05</td>\n",
       "      <td>3.40</td>\n",
       "      <td>1050</td>\n",
       "      <td>1</td>\n",
       "    </tr>\n",
       "    <tr>\n",
       "      <th>2</th>\n",
       "      <td>13.16</td>\n",
       "      <td>2.36</td>\n",
       "      <td>2.67</td>\n",
       "      <td>18.6</td>\n",
       "      <td>101</td>\n",
       "      <td>2.80</td>\n",
       "      <td>3.24</td>\n",
       "      <td>0.30</td>\n",
       "      <td>2.81</td>\n",
       "      <td>5.68</td>\n",
       "      <td>1.03</td>\n",
       "      <td>3.17</td>\n",
       "      <td>1185</td>\n",
       "      <td>1</td>\n",
       "    </tr>\n",
       "    <tr>\n",
       "      <th>3</th>\n",
       "      <td>14.37</td>\n",
       "      <td>1.95</td>\n",
       "      <td>2.50</td>\n",
       "      <td>16.8</td>\n",
       "      <td>113</td>\n",
       "      <td>3.85</td>\n",
       "      <td>3.49</td>\n",
       "      <td>0.24</td>\n",
       "      <td>2.18</td>\n",
       "      <td>7.80</td>\n",
       "      <td>0.86</td>\n",
       "      <td>3.45</td>\n",
       "      <td>1480</td>\n",
       "      <td>1</td>\n",
       "    </tr>\n",
       "    <tr>\n",
       "      <th>4</th>\n",
       "      <td>13.24</td>\n",
       "      <td>2.59</td>\n",
       "      <td>2.87</td>\n",
       "      <td>21.0</td>\n",
       "      <td>118</td>\n",
       "      <td>2.80</td>\n",
       "      <td>2.69</td>\n",
       "      <td>0.39</td>\n",
       "      <td>1.82</td>\n",
       "      <td>4.32</td>\n",
       "      <td>1.04</td>\n",
       "      <td>2.93</td>\n",
       "      <td>735</td>\n",
       "      <td>1</td>\n",
       "    </tr>\n",
       "    <tr>\n",
       "      <th>5</th>\n",
       "      <td>14.20</td>\n",
       "      <td>1.76</td>\n",
       "      <td>2.45</td>\n",
       "      <td>15.2</td>\n",
       "      <td>112</td>\n",
       "      <td>3.27</td>\n",
       "      <td>3.39</td>\n",
       "      <td>0.34</td>\n",
       "      <td>1.97</td>\n",
       "      <td>6.75</td>\n",
       "      <td>1.05</td>\n",
       "      <td>2.85</td>\n",
       "      <td>1450</td>\n",
       "      <td>1</td>\n",
       "    </tr>\n",
       "    <tr>\n",
       "      <th>6</th>\n",
       "      <td>14.39</td>\n",
       "      <td>1.87</td>\n",
       "      <td>2.45</td>\n",
       "      <td>14.6</td>\n",
       "      <td>96</td>\n",
       "      <td>2.50</td>\n",
       "      <td>2.52</td>\n",
       "      <td>0.30</td>\n",
       "      <td>1.98</td>\n",
       "      <td>5.25</td>\n",
       "      <td>1.02</td>\n",
       "      <td>3.58</td>\n",
       "      <td>1290</td>\n",
       "      <td>1</td>\n",
       "    </tr>\n",
       "    <tr>\n",
       "      <th>7</th>\n",
       "      <td>14.06</td>\n",
       "      <td>2.15</td>\n",
       "      <td>2.61</td>\n",
       "      <td>17.6</td>\n",
       "      <td>121</td>\n",
       "      <td>2.60</td>\n",
       "      <td>2.51</td>\n",
       "      <td>0.31</td>\n",
       "      <td>1.25</td>\n",
       "      <td>5.05</td>\n",
       "      <td>1.06</td>\n",
       "      <td>3.58</td>\n",
       "      <td>1295</td>\n",
       "      <td>1</td>\n",
       "    </tr>\n",
       "    <tr>\n",
       "      <th>8</th>\n",
       "      <td>14.83</td>\n",
       "      <td>1.64</td>\n",
       "      <td>2.17</td>\n",
       "      <td>14.0</td>\n",
       "      <td>97</td>\n",
       "      <td>2.80</td>\n",
       "      <td>2.98</td>\n",
       "      <td>0.29</td>\n",
       "      <td>1.98</td>\n",
       "      <td>5.20</td>\n",
       "      <td>1.08</td>\n",
       "      <td>2.85</td>\n",
       "      <td>1045</td>\n",
       "      <td>1</td>\n",
       "    </tr>\n",
       "    <tr>\n",
       "      <th>9</th>\n",
       "      <td>13.86</td>\n",
       "      <td>1.35</td>\n",
       "      <td>2.27</td>\n",
       "      <td>16.0</td>\n",
       "      <td>98</td>\n",
       "      <td>2.98</td>\n",
       "      <td>3.15</td>\n",
       "      <td>0.22</td>\n",
       "      <td>1.85</td>\n",
       "      <td>7.22</td>\n",
       "      <td>1.01</td>\n",
       "      <td>3.55</td>\n",
       "      <td>1045</td>\n",
       "      <td>1</td>\n",
       "    </tr>\n",
       "  </tbody>\n",
       "</table>\n",
       "</div>"
      ],
      "text/plain": [
       "   Alcohol  Malic_Acid   Ash  Ash_Alcanity  Magnesium  Total_Phenols  \\\n",
       "0    14.23        1.71  2.43          15.6        127           2.80   \n",
       "1    13.20        1.78  2.14          11.2        100           2.65   \n",
       "2    13.16        2.36  2.67          18.6        101           2.80   \n",
       "3    14.37        1.95  2.50          16.8        113           3.85   \n",
       "4    13.24        2.59  2.87          21.0        118           2.80   \n",
       "5    14.20        1.76  2.45          15.2        112           3.27   \n",
       "6    14.39        1.87  2.45          14.6         96           2.50   \n",
       "7    14.06        2.15  2.61          17.6        121           2.60   \n",
       "8    14.83        1.64  2.17          14.0         97           2.80   \n",
       "9    13.86        1.35  2.27          16.0         98           2.98   \n",
       "\n",
       "   Flavanoids  Nonflavanoid_Phenols  Proanthocyanins  Color_Intensity   Hue  \\\n",
       "0        3.06                  0.28             2.29             5.64  1.04   \n",
       "1        2.76                  0.26             1.28             4.38  1.05   \n",
       "2        3.24                  0.30             2.81             5.68  1.03   \n",
       "3        3.49                  0.24             2.18             7.80  0.86   \n",
       "4        2.69                  0.39             1.82             4.32  1.04   \n",
       "5        3.39                  0.34             1.97             6.75  1.05   \n",
       "6        2.52                  0.30             1.98             5.25  1.02   \n",
       "7        2.51                  0.31             1.25             5.05  1.06   \n",
       "8        2.98                  0.29             1.98             5.20  1.08   \n",
       "9        3.15                  0.22             1.85             7.22  1.01   \n",
       "\n",
       "   OD280  Proline  Customer_Segment  \n",
       "0   3.92     1065                 1  \n",
       "1   3.40     1050                 1  \n",
       "2   3.17     1185                 1  \n",
       "3   3.45     1480                 1  \n",
       "4   2.93      735                 1  \n",
       "5   2.85     1450                 1  \n",
       "6   3.58     1290                 1  \n",
       "7   3.58     1295                 1  \n",
       "8   2.85     1045                 1  \n",
       "9   3.55     1045                 1  "
      ]
     },
     "execution_count": 2,
     "metadata": {},
     "output_type": "execute_result"
    }
   ],
   "source": [
    "# Importing the dataset\n",
    "dataset = pd.read_csv('Wine.csv')\n",
    "dataset.head(10)"
   ]
  },
  {
   "cell_type": "code",
   "execution_count": 3,
   "metadata": {},
   "outputs": [],
   "source": [
    "# Split the data into Dependent variable(Y) and independent variable(X)\n",
    "X = dataset.iloc[:, 0:13].values\n",
    "y = dataset.iloc[:, 13].values"
   ]
  },
  {
   "cell_type": "code",
   "execution_count": 4,
   "metadata": {},
   "outputs": [],
   "source": [
    "# Splitting the dataset into the Training set and Test set\n",
    "from sklearn.model_selection import train_test_split\n",
    "X_train, X_test, y_train, y_test = train_test_split(X, y, test_size = 0.2, random_state = 0)"
   ]
  },
  {
   "cell_type": "code",
   "execution_count": 5,
   "metadata": {},
   "outputs": [],
   "source": [
    "# Feature Scaling\n",
    "from sklearn.preprocessing import StandardScaler\n",
    "sc = StandardScaler()\n",
    "X_train = sc.fit_transform(X_train)\n",
    "X_test = sc.transform(X_test)"
   ]
  },
  {
   "cell_type": "markdown",
   "metadata": {},
   "source": [
    "The aim of feature scaling (standerdization) is to standardize the range of the continuous initial variables so that each one of them contributes equally to the analysis.That is, if there are large differences between the ranges of initial variables, those variables with larger ranges will dominate over those with small ranges (For example, a variable that ranges between 0 and 100 will dominate over a variable that ranges between 0 and 1), which will lead to biased results. So, transforming the data to comparable scales can prevent this problem."
   ]
  },
  {
   "cell_type": "markdown",
   "metadata": {},
   "source": [
    "Mathematically, this can be done by subtracting the mean and dividing by the standard deviation for each value of each variable.\n",
    "\n",
    "Z = (Value - Mean) /std\n",
    "\n",
    "\n",
    "Once the standardization is done, all the variables will be transformed to the same scale."
   ]
  },
  {
   "cell_type": "code",
   "execution_count": 6,
   "metadata": {},
   "outputs": [],
   "source": [
    "# Applying PCA\n",
    "from sklearn.decomposition import PCA\n",
    "pca = PCA(n_components = None)\n",
    "X_train = pca.fit_transform(X_train)\n",
    "X_test = pca.transform(X_test)\n",
    "explained_variance = pca.explained_variance_ratio_"
   ]
  },
  {
   "cell_type": "code",
   "execution_count": 7,
   "metadata": {},
   "outputs": [
    {
     "name": "stdout",
     "output_type": "stream",
     "text": [
      "[0.36884109 0.19318394 0.10752862 0.07421996 0.06245904 0.04909\n",
      " 0.04117287 0.02495984 0.02308855 0.01864124 0.01731766 0.01252785\n",
      " 0.00696933]\n"
     ]
    }
   ],
   "source": [
    "# The following 13 principal components which is eaqual to the total number of features(variables) in the original datasets. \n",
    "# the first pca(0.36884109) explains 37% of the total variation in the datsets and the last pca(0.00696933) explains the least variation in the datasets ie .6%.\n",
    "# The first two pca's explains 37% + 19% = 56% of the total variation in the datasets \n",
    "print(explained_variance)"
   ]
  },
  {
   "attachments": {
    "covariance.jpg": {
     "image/jpeg": "[encoded data removed]"
    },
    "image.png": {
     "image/png": "[encoded data removed]"
    }
   },
   "cell_type": "markdown",
   "metadata": {},
   "source": [
    "How PCA constructs the Principal Components? As there are as many principal components as there are variables in the data, principal components are constructed in such a manner that the first principal component accounts for the largest possible variance in the data set. \n",
    "\n",
    "\n",
    "\n",
    "\n",
    "Steps in constructing PCA's\n",
    "\n",
    "\n",
    "## Covariance matrix \n",
    "\n",
    "\n",
    "\n",
    "Because sometimes, variables are highly correlated in such a way that they contain redundant information. So, in order to identify these correlations, we compute the covariance matrix.The covariance matrix is a p × p symmetric matrix (where p is the number of dimensions) that has as entries the covariances associated with all possible pairs of the initial variables. For example, for a 3-dimensional data set with 3 variables x, y, and z, the covariance matrix is a 3×3 matrix.\n",
    "\n",
    "![image.png](attachment:image.png)\n",
    "\n",
    "\n",
    "\n",
    "\n",
    "- Note:  \n",
    ". The covariance of a variable with itself is its variance (Cov(a,a)=Var(a)) \n",
    ". Covariance is commutative (Cov(a,b)=Cov(b,a))\n",
    "         \n",
    "         \n",
    "         \n",
    "         \n",
    "\n",
    "![covariance.jpg](attachment:covariance.jpg)\n",
    "\n",
    "\n",
    "\n",
    "# What do the covariances that we have as entries of the matrix tell us about the correlations between the variables?\n",
    "\n",
    "It’s actually the sign of the covariance that matters :\n",
    "\n",
    " -- if positive then : the two variables increase or decrease together (correlated)\n",
    "\n",
    "\n",
    "--- if negative then : One increases when the other decreases (Inversely correlated)"
   ]
  },
  {
   "cell_type": "markdown",
   "metadata": {},
   "source": [
    "# Compute the eigenvectors and eigenvalues of the covariance matrix to identify the principal components"
   ]
  },
  {
   "attachments": {},
   "cell_type": "markdown",
   "metadata": {},
   "source": [
    "What you firstly need to know about eigenvalues and eigenvectors is that they always come in pairs, so that every eigenvector has an eigenvalue. And their number is equal to the number of dimensions of the data. For example, for a 3-dimensional data set, there are 3 variables, therefore there are 3 eigenvectors with 3 corresponding eigenvalues. eigenvectors of the Covariance matrix are actually the directions of the axes where there is the most variance (most information) and that we call Principal Components. And eigenvalues are simply the coefficients attached to eigenvectors, which give the amount of variance carried in each Principal Component.By ranking your eigenvectors in order of their eigenvalues, highest to lowest, you get the principal components in order of significance.\n",
    "\n",
    "In general, the eigenvector  V of a matrix A  is the vector for which the following holds:\n",
    "  AV = hV\n",
    "  \n",
    "where  h is a scalar value called the ‘eigenvalue\n",
    "   \n",
    "   \n",
    "   "
   ]
  },
  {
   "cell_type": "markdown",
   "metadata": {},
   "source": [
    "By considering only the first two pca's (which explains 56% of the total variation), reset the kernel and run the above script for n_components = 2"
   ]
  },
  {
   "cell_type": "code",
   "execution_count": 6,
   "metadata": {},
   "outputs": [],
   "source": [
    "# Applying PCA\n",
    "from sklearn.decomposition import PCA\n",
    "pca = PCA(n_components = 2)\n",
    "X_train = pca.fit_transform(X_train)\n",
    "X_test = pca.transform(X_test)\n",
    "explained_variance = pca.explained_variance_ratio_"
   ]
  },
  {
   "cell_type": "code",
   "execution_count": 7,
   "metadata": {},
   "outputs": [
    {
     "name": "stdout",
     "output_type": "stream",
     "text": [
      "[[-2.17884511e+00 -1.07218467e+00]\n",
      " [-1.80819239e+00  1.57822344e+00]\n",
      " [ 1.09829474e+00  2.22124345e+00]\n",
      " [-2.55584748e+00 -1.66210369e+00]\n",
      " [ 1.85698063e+00  2.41573166e-01]\n",
      " [ 2.58288576e+00 -1.37668170e+00]\n",
      " [ 8.72876119e-01  2.25618512e+00]\n",
      " [-4.18384029e-01  2.35415681e+00]\n",
      " [-3.04977245e-01  2.27659433e+00]\n",
      " [ 2.14082532e+00 -1.10052871e+00]\n",
      " [-2.98136465e+00 -2.47159183e-01]\n",
      " [ 1.96188242e+00  1.25407738e+00]\n",
      " [-2.16177795e+00 -9.75966550e-01]\n",
      " [ 2.21976084e+00 -2.39507167e+00]\n",
      " [-2.30179529e+00 -2.05791962e-01]\n",
      " [-3.00953827e+00 -2.79141212e-01]\n",
      " [ 2.63443473e+00 -8.68313119e-01]\n",
      " [-1.09219965e+00 -3.53906625e+00]\n",
      " [ 2.62578435e+00 -2.96852840e-03]\n",
      " [ 1.98077342e-01  2.29193443e+00]\n",
      " [-2.67442753e+00 -2.58800132e+00]\n",
      " [-2.54763698e+00 -4.52703891e-01]\n",
      " [ 1.77416736e+00  8.43586940e-01]\n",
      " [-2.77786938e+00 -4.32090258e-01]\n",
      " [-2.86679938e+00 -1.87580875e+00]\n",
      " [ 1.35498845e+00  3.99545184e-02]\n",
      " [-2.43900474e+00  9.44074889e-02]\n",
      " [-2.27268121e+00  5.05883053e-01]\n",
      " [ 1.17887166e+00  2.50068415e+00]\n",
      " [-2.30673313e+00  1.30502777e+00]\n",
      " [-2.53020738e+00 -5.51277126e-01]\n",
      " [ 1.63200028e-01  1.29107817e+00]\n",
      " [ 2.57881158e+00 -1.17515982e+00]\n",
      " [-7.62471566e-01  3.16097049e+00]\n",
      " [ 2.57005937e+00 -9.66718786e-02]\n",
      " [-4.78337042e-01  5.77763823e-01]\n",
      " [ 5.47417096e-01 -3.77647780e-01]\n",
      " [ 3.55763538e+00 -1.45816125e+00]\n",
      " [ 1.69260971e+00  1.37844174e+00]\n",
      " [ 2.65288395e+00 -2.39399539e-01]\n",
      " [-3.62047411e+00 -6.90153979e-01]\n",
      " [-1.61462317e+00 -2.41170340e+00]\n",
      " [ 1.50959767e+00  1.32717326e+00]\n",
      " [ 5.36413494e-02  2.07680094e+00]\n",
      " [-1.07889168e-01  2.85115217e+00]\n",
      " [-2.39610454e+00 -2.45883860e+00]\n",
      " [-3.12315181e+00  4.23261512e-01]\n",
      " [ 3.28569649e+00 -3.22859884e-01]\n",
      " [-3.55506872e+00 -1.74242946e+00]\n",
      " [-3.87020538e-01  2.61510101e+00]\n",
      " [-4.74514016e-01  1.98023790e+00]\n",
      " [-1.06865761e+00  6.78906271e-01]\n",
      " [ 1.08546036e+00  1.30817801e+00]\n",
      " [ 2.02340107e+00  1.56926094e+00]\n",
      " [ 2.76257094e+00 -1.85603600e+00]\n",
      " [ 2.06778286e+00 -1.35861191e+00]\n",
      " [ 9.06600653e-01  2.04110996e+00]\n",
      " [ 3.52336455e+00 -1.39946872e+00]\n",
      " [-3.79914321e+00 -4.92727617e-02]\n",
      " [ 1.75250993e+00  4.64283651e-01]\n",
      " [-3.46539192e+00 -7.90385134e-01]\n",
      " [ 3.16221605e+00 -8.39879111e-01]\n",
      " [ 2.37656864e+00 -1.72475988e+00]\n",
      " [ 1.31278073e+00  8.53348760e-01]\n",
      " [ 3.57258440e+00 -1.78091597e+00]\n",
      " [ 9.50877158e-01  2.38927332e+00]\n",
      " [ 4.95461316e-01  2.16498322e+00]\n",
      " [ 3.79294638e+00 -2.92787186e+00]\n",
      " [-2.37978591e+00 -2.13572422e+00]\n",
      " [-1.50346992e+00  1.39146991e+00]\n",
      " [ 2.50566646e+00 -1.30365941e+00]\n",
      " [-6.97535788e-01  2.78160736e-01]\n",
      " [-7.25562555e-01  2.54007170e+00]\n",
      " [ 9.24047324e-01  1.46344718e+00]\n",
      " [-1.25151294e+00  2.74792621e-02]\n",
      " [ 2.20937835e+00 -8.05690832e-01]\n",
      " [-3.84416995e+00 -5.74263508e-01]\n",
      " [-1.77983157e+00 -1.38012167e+00]\n",
      " [ 4.35413058e+00 -2.33750318e+00]\n",
      " [ 3.33834347e+00 -1.51169086e+00]\n",
      " [-1.44769123e+00  1.90826204e+00]\n",
      " [-2.75066706e+00 -2.07100640e+00]\n",
      " [ 2.79475799e+00 -1.36659228e+00]\n",
      " [ 1.84642601e+00 -6.82481476e-01]\n",
      " [-4.13332842e-01  2.20440158e+00]\n",
      " [-4.81356617e-02  1.17469609e+00]\n",
      " [ 1.99166500e+00 -2.50860656e-01]\n",
      " [ 2.26421169e+00 -1.32120813e+00]\n",
      " [ 7.85551414e-01 -2.46487051e-01]\n",
      " [-3.32586984e+00 -2.14485564e+00]\n",
      " [ 1.00496881e+00  7.20390295e-01]\n",
      " [ 2.31479633e+00  2.62129546e-01]\n",
      " [ 8.67032066e-01  1.36440259e+00]\n",
      " [-2.28629769e+00 -4.54244754e-01]\n",
      " [ 3.14452871e+00 -1.29318898e+00]\n",
      " [-1.65297942e+00  1.74177394e+00]\n",
      " [-2.84689388e+00 -7.78426712e-02]\n",
      " [-2.68393126e+00 -2.53813173e-01]\n",
      " [ 1.97280128e+00 -1.70171835e+00]\n",
      " [ 1.63120111e+00  7.24762688e-01]\n",
      " [-2.05082836e+00 -2.11848206e-01]\n",
      " [ 2.28798382e+00 -1.95899701e+00]\n",
      " [-2.28266458e+00 -2.07243579e-01]\n",
      " [-3.45079842e-01  1.92360626e+00]\n",
      " [ 1.49448758e+00 -7.18673825e-01]\n",
      " [ 2.26695932e+00 -7.93531817e-01]\n",
      " [-3.44673144e-01  1.92686997e+00]\n",
      " [ 2.75927029e+00 -1.56391999e+00]\n",
      " [-2.86839562e+00 -1.85579453e+00]\n",
      " [-1.46228982e+00  1.22151405e+00]\n",
      " [-3.31754434e+00 -1.20382601e+00]\n",
      " [ 1.72057718e+00 -1.36843828e-01]\n",
      " [-2.90065973e+00 -3.71521776e-01]\n",
      " [-2.30532411e+00 -2.14386284e+00]\n",
      " [-3.51377495e+00 -1.17981731e+00]\n",
      " [ 2.32780065e+00 -2.95396131e-01]\n",
      " [ 1.54528723e+00  1.99996309e+00]\n",
      " [-3.32660657e-01  2.37118865e+00]\n",
      " [ 4.96648201e-01  9.57282660e-01]\n",
      " [ 6.69654741e-01  3.80907536e+00]\n",
      " [-2.76009366e+00 -1.48785734e+00]\n",
      " [-3.19187371e+00 -2.70815669e+00]\n",
      " [-6.05023707e-01  1.10583182e+00]\n",
      " [-1.34006934e+00  1.51232906e+00]\n",
      " [ 1.05506599e+00 -9.49724036e-01]\n",
      " [ 1.16017702e+00  1.39768493e+00]\n",
      " [-2.87675356e+00 -1.15157946e+00]\n",
      " [-2.35838421e+00 -2.44842974e+00]\n",
      " [ 2.54704855e+00 -1.86824592e+00]\n",
      " [ 3.20597222e+00 -1.85912926e+00]\n",
      " [-2.69949485e+00 -1.75638262e-01]\n",
      " [-9.67436859e-01  1.81399824e+00]\n",
      " [-1.46454259e+00  1.01680272e+00]\n",
      " [-4.04000223e-01  2.40815711e+00]\n",
      " [ 1.46393837e+00 -6.90763351e-01]\n",
      " [ 1.15903114e+00 -2.91379684e-01]\n",
      " [ 2.82057099e+00 -8.99578955e-01]\n",
      " [-5.01011897e-01  2.68453162e+00]\n",
      " [ 3.30453915e-01  2.43396193e+00]\n",
      " [ 1.09727608e-02  1.99585453e+00]\n",
      " [ 2.89176687e+00 -7.71555485e-01]\n",
      " [-2.44830439e+00 -2.11360296e+00]]\n"
     ]
    }
   ],
   "source": [
    "# the new two variables in training datasets extracted from 13 original variables\n",
    "print(X_train)"
   ]
  },
  {
   "cell_type": "code",
   "execution_count": 9,
   "metadata": {},
   "outputs": [
    {
     "name": "stderr",
     "output_type": "stream",
     "text": [
      "C:\\Python\\lib\\site-packages\\sklearn\\linear_model\\logistic.py:433: FutureWarning: Default solver will be changed to 'lbfgs' in 0.22. Specify a solver to silence this warning.\n",
      "  FutureWarning)\n",
      "C:\\Python\\lib\\site-packages\\sklearn\\linear_model\\logistic.py:460: FutureWarning: Default multi_class will be changed to 'auto' in 0.22. Specify the multi_class option to silence this warning.\n",
      "  \"this warning.\", FutureWarning)\n"
     ]
    },
    {
     "data": {
      "text/plain": [
       "LogisticRegression(C=1.0, class_weight=None, dual=False, fit_intercept=True,\n",
       "          intercept_scaling=1, max_iter=100, multi_class='warn',\n",
       "          n_jobs=None, penalty='l2', random_state=0, solver='warn',\n",
       "          tol=0.0001, verbose=0, warm_start=False)"
      ]
     },
     "execution_count": 9,
     "metadata": {},
     "output_type": "execute_result"
    }
   ],
   "source": [
    "# Fitting Logistic Regression to the Training set of newly extracted two independent variables to classfy into 3 groups of dependent variable y\n",
    "from sklearn.linear_model import LogisticRegression\n",
    "classifier = LogisticRegression(random_state = 0)\n",
    "classifier.fit(X_train, y_train)\n"
   ]
  },
  {
   "cell_type": "code",
   "execution_count": 10,
   "metadata": {},
   "outputs": [],
   "source": [
    "# Predicting the Test set results\n",
    "y_pred = classifier.predict(X_test)"
   ]
  },
  {
   "cell_type": "code",
   "execution_count": 15,
   "metadata": {},
   "outputs": [
    {
     "data": {
      "text/plain": [
       "array([1, 3, 2, 1, 2, 1, 1, 3, 2, 2, 3, 3, 1, 2, 3, 2, 1, 1, 2, 1, 2, 1,\n",
       "       1, 2, 2, 2, 2, 2, 2, 3, 1, 1, 2, 1, 1, 1], dtype=int64)"
      ]
     },
     "execution_count": 15,
     "metadata": {},
     "output_type": "execute_result"
    }
   ],
   "source": [
    "y_pred"
   ]
  },
  {
   "cell_type": "code",
   "execution_count": 16,
   "metadata": {},
   "outputs": [],
   "source": [
    "# Making the Confusion Matrix\n",
    "from sklearn.metrics import confusion_matrix\n",
    "cm = confusion_matrix(y_test, y_pred)"
   ]
  },
  {
   "cell_type": "code",
   "execution_count": 17,
   "metadata": {},
   "outputs": [
    {
     "data": {
      "text/plain": [
       "array([[14,  0,  0],\n",
       "       [ 1, 15,  0],\n",
       "       [ 0,  0,  6]], dtype=int64)"
      ]
     },
     "execution_count": 17,
     "metadata": {},
     "output_type": "execute_result"
    }
   ],
   "source": [
    "# Here 3 by 3 confusion matrix\n",
    "cm"
   ]
  },
  {
   "cell_type": "code",
   "execution_count": 25,
   "metadata": {},
   "outputs": [
    {
     "name": "stderr",
     "output_type": "stream",
     "text": [
      "'c' argument looks like a single numeric RGB or RGBA sequence, which should be avoided as value-mapping will have precedence in case its length matches with 'x' & 'y'.  Please use a 2-D array with a single row if you really want to specify the same RGB or RGBA value for all points.\n",
      "'c' argument looks like a single numeric RGB or RGBA sequence, which should be avoided as value-mapping will have precedence in case its length matches with 'x' & 'y'.  Please use a 2-D array with a single row if you really want to specify the same RGB or RGBA value for all points.\n",
      "'c' argument looks like a single numeric RGB or RGBA sequence, which should be avoided as value-mapping will have precedence in case its length matches with 'x' & 'y'.  Please use a 2-D array with a single row if you really want to specify the same RGB or RGBA value for all points.\n"
     ]
    },
    {
     "data": {
      "image/png": "[encoded data removed]",
      "text/plain": [
       "<Figure size 432x288 with 1 Axes>"
      ]
     },
     "metadata": {
      "needs_background": "light"
     },
     "output_type": "display_data"
    }
   ],
   "source": [
    "# Visualising the Training set results\n",
    "from matplotlib.colors import ListedColormap\n",
    "X_set, y_set = X_train, y_train\n",
    "X1, X2 = np.meshgrid(np.arange(start = X_set[:, 0].min() - 1, stop = X_set[:, 0].max() + 1, step = 0.01),\n",
    "                     np.arange(start = X_set[:, 1].min() - 1, stop = X_set[:, 1].max() + 1, step = 0.01))\n",
    "plt.contourf(X1, X2, classifier.predict(np.array([X1.ravel(), X2.ravel()]).T).reshape(X1.shape),\n",
    "             alpha = 0.75, cmap = ListedColormap(('red', 'blue', 'purple')))\n",
    "plt.xlim(X1.min(), X1.max())\n",
    "plt.ylim(X2.min(), X2.max())\n",
    "for i, j in enumerate(np.unique(y_set)):\n",
    "    plt.scatter(X_set[y_set == j, 0], X_set[y_set == j, 1],\n",
    "                c = ListedColormap(('red', 'blue', 'purple'))(i), label = j)\n",
    "plt.title('Logistic Regression (Training set)')\n",
    "plt.xlabel('PC1')\n",
    "plt.ylabel('PC2')\n",
    "plt.legend()\n",
    "plt.show()"
   ]
  },
  {
   "cell_type": "code",
   "execution_count": 23,
   "metadata": {},
   "outputs": [
    {
     "name": "stderr",
     "output_type": "stream",
     "text": [
      "'c' argument looks like a single numeric RGB or RGBA sequence, which should be avoided as value-mapping will have precedence in case its length matches with 'x' & 'y'.  Please use a 2-D array with a single row if you really want to specify the same RGB or RGBA value for all points.\n",
      "'c' argument looks like a single numeric RGB or RGBA sequence, which should be avoided as value-mapping will have precedence in case its length matches with 'x' & 'y'.  Please use a 2-D array with a single row if you really want to specify the same RGB or RGBA value for all points.\n",
      "'c' argument looks like a single numeric RGB or RGBA sequence, which should be avoided as value-mapping will have precedence in case its length matches with 'x' & 'y'.  Please use a 2-D array with a single row if you really want to specify the same RGB or RGBA value for all points.\n"
     ]
    },
    {
     "data": {
      "image/png": "[encoded data removed]",
      "text/plain": [
       "<Figure size 432x288 with 1 Axes>"
      ]
     },
     "metadata": {
      "needs_background": "light"
     },
     "output_type": "display_data"
    }
   ],
   "source": [
    "# Visualising the Test set results\n",
    "from matplotlib.colors import ListedColormap\n",
    "X_set, y_set = X_test, y_test\n",
    "X1, X2 = np.meshgrid(np.arange(start = X_set[:, 0].min() - 1, stop = X_set[:, 0].max() + 1, step = 0.01),\n",
    "                     np.arange(start = X_set[:, 1].min() - 1, stop = X_set[:, 1].max() + 1, step = 0.01))\n",
    "plt.contourf(X1, X2, classifier.predict(np.array([X1.ravel(), X2.ravel()]).T).reshape(X1.shape),\n",
    "             alpha = 0.75, cmap = ListedColormap(('red', 'blue', 'purple')))\n",
    "plt.xlim(X1.min(), X1.max())\n",
    "plt.ylim(X2.min(), X2.max())\n",
    "for i, j in enumerate(np.unique(y_set)):\n",
    "    plt.scatter(X_set[y_set == j, 0], X_set[y_set == j, 1],\n",
    "                c = ListedColormap(('red', 'blue', 'purple'))(i), label = j)\n",
    "plt.title('Logistic Regression (Test set)')\n",
    "plt.xlabel('PC1')\n",
    "plt.ylabel('PC2')\n",
    "plt.legend()\n",
    "plt.show()"
   ]
  },
  {
   "cell_type": "code",
   "execution_count": null,
   "metadata": {},
   "outputs": [],
   "source": []
  }
 ],
 "metadata": {
  "kernelspec": {
   "display_name": "Python 3",
   "language": "python",
   "name": "python3"
  },
  "language_info": {
   "codemirror_mode": {
    "name": "ipython",
    "version": 3
   },
   "file_extension": ".py",
   "mimetype": "text/x-python",
   "name": "python",
   "nbconvert_exporter": "python",
   "pygments_lexer": "ipython3",
   "version": "3.6.8"
  }
 },
 "nbformat": 4,
 "nbformat_minor": 2
}
